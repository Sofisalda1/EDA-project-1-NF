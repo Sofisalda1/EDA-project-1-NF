{
 "cells": [
  {
   "cell_type": "code",
   "execution_count": 631,
   "metadata": {},
   "outputs": [],
   "source": [
    "import warnings\n",
    "\n",
    "warnings.filterwarnings(\"ignore\")\n",
    "\n",
    "import pandas as pd\n",
    "import numpy as np\n",
    "import matplotlib.pyplot as plt\n",
    "import seaborn as sns\n",
    "import datetime\n",
    "\n",
    "\n",
    "from matplotlib.ticker import PercentFormatter\n",
    "plt.rcParams.update({ \"figure.figsize\" : (12, 8),\"axes.facecolor\" : \"white\", \"axes.edgecolor\":  \"black\"})\n",
    "plt.rcParams[\"figure.facecolor\"]= \"w\"\n",
    "pd.plotting.register_matplotlib_converters()\n",
    "pd.set_option('display.float_format', lambda x: '%.3f' % x)"
   ]
  },
  {
   "cell_type": "code",
   "execution_count": 645,
   "metadata": {},
   "outputs": [
    {
     "data": {
      "text/html": [
       "<div>\n",
       "<style scoped>\n",
       "    .dataframe tbody tr th:only-of-type {\n",
       "        vertical-align: middle;\n",
       "    }\n",
       "\n",
       "    .dataframe tbody tr th {\n",
       "        vertical-align: top;\n",
       "    }\n",
       "\n",
       "    .dataframe thead th {\n",
       "        text-align: right;\n",
       "    }\n",
       "</style>\n",
       "<table border=\"1\" class=\"dataframe\">\n",
       "  <thead>\n",
       "    <tr style=\"text-align: right;\">\n",
       "      <th></th>\n",
       "      <th>id</th>\n",
       "      <th>price</th>\n",
       "      <th>bedrooms</th>\n",
       "      <th>bathrooms</th>\n",
       "      <th>sqft_living</th>\n",
       "      <th>sqft_lot</th>\n",
       "      <th>floors</th>\n",
       "      <th>waterfront</th>\n",
       "      <th>view</th>\n",
       "      <th>condition</th>\n",
       "      <th>grade</th>\n",
       "      <th>sqft_above</th>\n",
       "      <th>sqft_basement</th>\n",
       "      <th>yr_built</th>\n",
       "      <th>yr_renovated</th>\n",
       "      <th>zipcode</th>\n",
       "      <th>lat</th>\n",
       "      <th>long</th>\n",
       "      <th>sqft_living15</th>\n",
       "      <th>sqft_lot15</th>\n",
       "    </tr>\n",
       "  </thead>\n",
       "  <tbody>\n",
       "    <tr>\n",
       "      <th>count</th>\n",
       "      <td>21597.000</td>\n",
       "      <td>21597.000</td>\n",
       "      <td>21597.000</td>\n",
       "      <td>21597.000</td>\n",
       "      <td>21597.000</td>\n",
       "      <td>21597.000</td>\n",
       "      <td>21597.000</td>\n",
       "      <td>21597.000</td>\n",
       "      <td>21597.000</td>\n",
       "      <td>21597.000</td>\n",
       "      <td>21597.000</td>\n",
       "      <td>21597.000</td>\n",
       "      <td>21597.000</td>\n",
       "      <td>21597.000</td>\n",
       "      <td>21597.000</td>\n",
       "      <td>21597.000</td>\n",
       "      <td>21597.000</td>\n",
       "      <td>21597.000</td>\n",
       "      <td>21597.000</td>\n",
       "      <td>21597.000</td>\n",
       "    </tr>\n",
       "    <tr>\n",
       "      <th>mean</th>\n",
       "      <td>4580474287.771</td>\n",
       "      <td>540296.574</td>\n",
       "      <td>3.373</td>\n",
       "      <td>2.116</td>\n",
       "      <td>2080.322</td>\n",
       "      <td>15099.409</td>\n",
       "      <td>1.494</td>\n",
       "      <td>0.007</td>\n",
       "      <td>0.233</td>\n",
       "      <td>3.410</td>\n",
       "      <td>7.658</td>\n",
       "      <td>1788.597</td>\n",
       "      <td>291.725</td>\n",
       "      <td>1971.000</td>\n",
       "      <td>68.758</td>\n",
       "      <td>98077.952</td>\n",
       "      <td>47.560</td>\n",
       "      <td>-122.214</td>\n",
       "      <td>1986.620</td>\n",
       "      <td>12758.284</td>\n",
       "    </tr>\n",
       "    <tr>\n",
       "      <th>std</th>\n",
       "      <td>2876735715.748</td>\n",
       "      <td>367368.140</td>\n",
       "      <td>0.926</td>\n",
       "      <td>0.769</td>\n",
       "      <td>918.106</td>\n",
       "      <td>41412.637</td>\n",
       "      <td>0.540</td>\n",
       "      <td>0.082</td>\n",
       "      <td>0.765</td>\n",
       "      <td>0.651</td>\n",
       "      <td>1.173</td>\n",
       "      <td>827.760</td>\n",
       "      <td>442.668</td>\n",
       "      <td>29.375</td>\n",
       "      <td>364.037</td>\n",
       "      <td>53.513</td>\n",
       "      <td>0.139</td>\n",
       "      <td>0.141</td>\n",
       "      <td>685.230</td>\n",
       "      <td>27274.442</td>\n",
       "    </tr>\n",
       "    <tr>\n",
       "      <th>min</th>\n",
       "      <td>1000102.000</td>\n",
       "      <td>78000.000</td>\n",
       "      <td>1.000</td>\n",
       "      <td>0.500</td>\n",
       "      <td>370.000</td>\n",
       "      <td>520.000</td>\n",
       "      <td>1.000</td>\n",
       "      <td>0.000</td>\n",
       "      <td>0.000</td>\n",
       "      <td>1.000</td>\n",
       "      <td>3.000</td>\n",
       "      <td>370.000</td>\n",
       "      <td>0.000</td>\n",
       "      <td>1900.000</td>\n",
       "      <td>0.000</td>\n",
       "      <td>98001.000</td>\n",
       "      <td>47.156</td>\n",
       "      <td>-122.519</td>\n",
       "      <td>399.000</td>\n",
       "      <td>651.000</td>\n",
       "    </tr>\n",
       "    <tr>\n",
       "      <th>25%</th>\n",
       "      <td>2123049175.000</td>\n",
       "      <td>322000.000</td>\n",
       "      <td>3.000</td>\n",
       "      <td>1.750</td>\n",
       "      <td>1430.000</td>\n",
       "      <td>5040.000</td>\n",
       "      <td>1.000</td>\n",
       "      <td>0.000</td>\n",
       "      <td>0.000</td>\n",
       "      <td>3.000</td>\n",
       "      <td>7.000</td>\n",
       "      <td>1190.000</td>\n",
       "      <td>0.000</td>\n",
       "      <td>1951.000</td>\n",
       "      <td>0.000</td>\n",
       "      <td>98033.000</td>\n",
       "      <td>47.471</td>\n",
       "      <td>-122.328</td>\n",
       "      <td>1490.000</td>\n",
       "      <td>5100.000</td>\n",
       "    </tr>\n",
       "    <tr>\n",
       "      <th>50%</th>\n",
       "      <td>3904930410.000</td>\n",
       "      <td>450000.000</td>\n",
       "      <td>3.000</td>\n",
       "      <td>2.250</td>\n",
       "      <td>1910.000</td>\n",
       "      <td>7618.000</td>\n",
       "      <td>1.500</td>\n",
       "      <td>0.000</td>\n",
       "      <td>0.000</td>\n",
       "      <td>3.000</td>\n",
       "      <td>7.000</td>\n",
       "      <td>1560.000</td>\n",
       "      <td>0.000</td>\n",
       "      <td>1975.000</td>\n",
       "      <td>0.000</td>\n",
       "      <td>98065.000</td>\n",
       "      <td>47.572</td>\n",
       "      <td>-122.231</td>\n",
       "      <td>1840.000</td>\n",
       "      <td>7620.000</td>\n",
       "    </tr>\n",
       "    <tr>\n",
       "      <th>75%</th>\n",
       "      <td>7308900490.000</td>\n",
       "      <td>645000.000</td>\n",
       "      <td>4.000</td>\n",
       "      <td>2.500</td>\n",
       "      <td>2550.000</td>\n",
       "      <td>10685.000</td>\n",
       "      <td>2.000</td>\n",
       "      <td>0.000</td>\n",
       "      <td>0.000</td>\n",
       "      <td>4.000</td>\n",
       "      <td>8.000</td>\n",
       "      <td>2210.000</td>\n",
       "      <td>560.000</td>\n",
       "      <td>1997.000</td>\n",
       "      <td>0.000</td>\n",
       "      <td>98118.000</td>\n",
       "      <td>47.678</td>\n",
       "      <td>-122.125</td>\n",
       "      <td>2360.000</td>\n",
       "      <td>10083.000</td>\n",
       "    </tr>\n",
       "    <tr>\n",
       "      <th>max</th>\n",
       "      <td>9900000190.000</td>\n",
       "      <td>7700000.000</td>\n",
       "      <td>33.000</td>\n",
       "      <td>8.000</td>\n",
       "      <td>13540.000</td>\n",
       "      <td>1651359.000</td>\n",
       "      <td>3.500</td>\n",
       "      <td>1.000</td>\n",
       "      <td>4.000</td>\n",
       "      <td>5.000</td>\n",
       "      <td>13.000</td>\n",
       "      <td>9410.000</td>\n",
       "      <td>4820.000</td>\n",
       "      <td>2015.000</td>\n",
       "      <td>2015.000</td>\n",
       "      <td>98199.000</td>\n",
       "      <td>47.778</td>\n",
       "      <td>-121.315</td>\n",
       "      <td>6210.000</td>\n",
       "      <td>871200.000</td>\n",
       "    </tr>\n",
       "  </tbody>\n",
       "</table>\n",
       "</div>"
      ],
      "text/plain": [
       "                  id       price  bedrooms  bathrooms  sqft_living  \\\n",
       "count      21597.000   21597.000 21597.000  21597.000    21597.000   \n",
       "mean  4580474287.771  540296.574     3.373      2.116     2080.322   \n",
       "std   2876735715.748  367368.140     0.926      0.769      918.106   \n",
       "min      1000102.000   78000.000     1.000      0.500      370.000   \n",
       "25%   2123049175.000  322000.000     3.000      1.750     1430.000   \n",
       "50%   3904930410.000  450000.000     3.000      2.250     1910.000   \n",
       "75%   7308900490.000  645000.000     4.000      2.500     2550.000   \n",
       "max   9900000190.000 7700000.000    33.000      8.000    13540.000   \n",
       "\n",
       "         sqft_lot    floors  waterfront      view  condition     grade  \\\n",
       "count   21597.000 21597.000   21597.000 21597.000  21597.000 21597.000   \n",
       "mean    15099.409     1.494       0.007     0.233      3.410     7.658   \n",
       "std     41412.637     0.540       0.082     0.765      0.651     1.173   \n",
       "min       520.000     1.000       0.000     0.000      1.000     3.000   \n",
       "25%      5040.000     1.000       0.000     0.000      3.000     7.000   \n",
       "50%      7618.000     1.500       0.000     0.000      3.000     7.000   \n",
       "75%     10685.000     2.000       0.000     0.000      4.000     8.000   \n",
       "max   1651359.000     3.500       1.000     4.000      5.000    13.000   \n",
       "\n",
       "       sqft_above  sqft_basement  yr_built  yr_renovated   zipcode       lat  \\\n",
       "count   21597.000      21597.000 21597.000     21597.000 21597.000 21597.000   \n",
       "mean     1788.597        291.725  1971.000        68.758 98077.952    47.560   \n",
       "std       827.760        442.668    29.375       364.037    53.513     0.139   \n",
       "min       370.000          0.000  1900.000         0.000 98001.000    47.156   \n",
       "25%      1190.000          0.000  1951.000         0.000 98033.000    47.471   \n",
       "50%      1560.000          0.000  1975.000         0.000 98065.000    47.572   \n",
       "75%      2210.000        560.000  1997.000         0.000 98118.000    47.678   \n",
       "max      9410.000       4820.000  2015.000      2015.000 98199.000    47.778   \n",
       "\n",
       "           long  sqft_living15  sqft_lot15  \n",
       "count 21597.000      21597.000   21597.000  \n",
       "mean   -122.214       1986.620   12758.284  \n",
       "std       0.141        685.230   27274.442  \n",
       "min    -122.519        399.000     651.000  \n",
       "25%    -122.328       1490.000    5100.000  \n",
       "50%    -122.231       1840.000    7620.000  \n",
       "75%    -122.125       2360.000   10083.000  \n",
       "max    -121.315       6210.000  871200.000  "
      ]
     },
     "execution_count": 645,
     "metadata": {},
     "output_type": "execute_result"
    }
   ],
   "source": [
    "#Cleaning the data\n",
    "\n",
    "#load data into data frame\n",
    "king_county_df = pd.read_csv(\"data/King_County_House_prices_dataset.csv\")\n",
    "#filled the NaN as 0 becasue they were only on the view and waterfront columns and it made more sense than deleting the rows \n",
    "king_county_df = king_county_df.fillna(0)\n",
    "#sqft_basement was type object and had some \"?\" as values so I replaced the entire column for sqft_living - sqft_above\n",
    "king_county_df['sqft_basement'] = king_county_df['sqft_living'] - king_county_df['sqft_above']\n",
    "#changed columns to more apropriate data types\n",
    "king_county_df['date'] = pd.to_datetime(king_county_df['date'])\n",
    "king_county_df['date'] = king_county_df['date'].dt.to_period('M')\n",
    "king_county_df['date'] = king_county_df['date'].astype(str)\n",
    "king_county_df.waterfront = king_county_df.waterfront.astype(int)\n",
    "king_county_df.view = king_county_df.view.astype(int)\n",
    "king_county_df.yr_renovated = king_county_df.yr_renovated.astype(int)\n",
    "#adding a column telling weather its renovated or not\n",
    "king_county_df[\"is_renov\"] = king_county_df.yr_renovated > 2000\n",
    "#5 price bins\n",
    "king_county_df[\"5_price_bins\"] = pd.cut(king_county_df.price, [0, 298900, 399900, 519000, 701000, 7800000])\n",
    "\n",
    "\n",
    "king_county_df.describe()"
   ]
  },
  {
   "cell_type": "code",
   "execution_count": 651,
   "metadata": {},
   "outputs": [
    {
     "data": {
      "text/plain": [
       "(array([ 308.,  544.,  390.,  477.,  809.,  354.,  446.,  789., 1296.,\n",
       "        1414., 1597., 1339.,  976., 1829., 1187., 1395., 1189., 1667.,\n",
       "        2350., 1241.]),\n",
       " array([1900.  , 1905.75, 1911.5 , 1917.25, 1923.  , 1928.75, 1934.5 ,\n",
       "        1940.25, 1946.  , 1951.75, 1957.5 , 1963.25, 1969.  , 1974.75,\n",
       "        1980.5 , 1986.25, 1992.  , 1997.75, 2003.5 , 2009.25, 2015.  ]),\n",
       " <BarContainer object of 20 artists>)"
      ]
     },
     "execution_count": 651,
     "metadata": {},
     "output_type": "execute_result"
    },
    {
     "data": {
      "image/png": "[encoded data removed]",
      "text/plain": [
       "<Figure size 864x576 with 1 Axes>"
      ]
     },
     "metadata": {},
     "output_type": "display_data"
    }
   ],
   "source": [
    "plt.hist(king_county_df.yr_built, bins=20)"
   ]
  },
  {
   "cell_type": "code",
   "execution_count": 633,
   "metadata": {},
   "outputs": [
    {
     "data": {
      "image/png": "[encoded data removed]",
      "text/plain": [
       "<Figure size 864x576 with 2 Axes>"
      ]
     },
     "metadata": {},
     "output_type": "display_data"
    }
   ],
   "source": [
    "king_county_df_corr = king_county_df[['price', 'bedrooms', 'bathrooms', 'sqft_living', 'floors', 'waterfront',\n",
    "                                      'view', 'grade', 'yr_built', 'sqft_living15']]\n",
    "correlation_mat = king_county_df_corr.corr()\n",
    "sns.heatmap(correlation_mat, annot=True)\n",
    "plt.show()"
   ]
  },
  {
   "cell_type": "code",
   "execution_count": 665,
   "metadata": {},
   "outputs": [
    {
     "data": {
      "text/html": [
       "<div>\n",
       "<style scoped>\n",
       "    .dataframe tbody tr th:only-of-type {\n",
       "        vertical-align: middle;\n",
       "    }\n",
       "\n",
       "    .dataframe tbody tr th {\n",
       "        vertical-align: top;\n",
       "    }\n",
       "\n",
       "    .dataframe thead th {\n",
       "        text-align: right;\n",
       "    }\n",
       "</style>\n",
       "<table border=\"1\" class=\"dataframe\">\n",
       "  <thead>\n",
       "    <tr style=\"text-align: right;\">\n",
       "      <th></th>\n",
       "      <th>id</th>\n",
       "      <th>date</th>\n",
       "      <th>price</th>\n",
       "      <th>bedrooms</th>\n",
       "      <th>bathrooms</th>\n",
       "      <th>sqft_living</th>\n",
       "      <th>sqft_lot</th>\n",
       "      <th>floors</th>\n",
       "      <th>waterfront</th>\n",
       "      <th>view</th>\n",
       "      <th>...</th>\n",
       "      <th>sqft_basement</th>\n",
       "      <th>yr_built</th>\n",
       "      <th>yr_renovated</th>\n",
       "      <th>zipcode</th>\n",
       "      <th>lat</th>\n",
       "      <th>long</th>\n",
       "      <th>sqft_living15</th>\n",
       "      <th>sqft_lot15</th>\n",
       "      <th>is_renov</th>\n",
       "      <th>5_price_bins</th>\n",
       "    </tr>\n",
       "  </thead>\n",
       "  <tbody>\n",
       "    <tr>\n",
       "      <th>49</th>\n",
       "      <td>822039084</td>\n",
       "      <td>2015-03</td>\n",
       "      <td>1350000.000</td>\n",
       "      <td>3</td>\n",
       "      <td>2.500</td>\n",
       "      <td>2753</td>\n",
       "      <td>65005</td>\n",
       "      <td>1.000</td>\n",
       "      <td>1</td>\n",
       "      <td>2</td>\n",
       "      <td>...</td>\n",
       "      <td>588</td>\n",
       "      <td>1953</td>\n",
       "      <td>0</td>\n",
       "      <td>98070</td>\n",
       "      <td>47.404</td>\n",
       "      <td>-122.451</td>\n",
       "      <td>2680</td>\n",
       "      <td>72513</td>\n",
       "      <td>False</td>\n",
       "      <td>(701000, 7800000]</td>\n",
       "    </tr>\n",
       "    <tr>\n",
       "      <th>230</th>\n",
       "      <td>8096000060</td>\n",
       "      <td>2015-04</td>\n",
       "      <td>655000.000</td>\n",
       "      <td>2</td>\n",
       "      <td>1.750</td>\n",
       "      <td>1450</td>\n",
       "      <td>15798</td>\n",
       "      <td>2.000</td>\n",
       "      <td>1</td>\n",
       "      <td>4</td>\n",
       "      <td>...</td>\n",
       "      <td>220</td>\n",
       "      <td>1915</td>\n",
       "      <td>1978</td>\n",
       "      <td>98166</td>\n",
       "      <td>47.450</td>\n",
       "      <td>-122.375</td>\n",
       "      <td>2030</td>\n",
       "      <td>13193</td>\n",
       "      <td>False</td>\n",
       "      <td>(519000, 701000]</td>\n",
       "    </tr>\n",
       "    <tr>\n",
       "      <th>246</th>\n",
       "      <td>2025069065</td>\n",
       "      <td>2014-09</td>\n",
       "      <td>2400000.000</td>\n",
       "      <td>4</td>\n",
       "      <td>2.500</td>\n",
       "      <td>3650</td>\n",
       "      <td>8354</td>\n",
       "      <td>1.000</td>\n",
       "      <td>1</td>\n",
       "      <td>4</td>\n",
       "      <td>...</td>\n",
       "      <td>1820</td>\n",
       "      <td>2000</td>\n",
       "      <td>0</td>\n",
       "      <td>98074</td>\n",
       "      <td>47.634</td>\n",
       "      <td>-122.072</td>\n",
       "      <td>3120</td>\n",
       "      <td>18841</td>\n",
       "      <td>False</td>\n",
       "      <td>(701000, 7800000]</td>\n",
       "    </tr>\n",
       "    <tr>\n",
       "      <th>264</th>\n",
       "      <td>2123039032</td>\n",
       "      <td>2014-10</td>\n",
       "      <td>369900.000</td>\n",
       "      <td>1</td>\n",
       "      <td>0.750</td>\n",
       "      <td>760</td>\n",
       "      <td>10079</td>\n",
       "      <td>1.000</td>\n",
       "      <td>1</td>\n",
       "      <td>4</td>\n",
       "      <td>...</td>\n",
       "      <td>0</td>\n",
       "      <td>1936</td>\n",
       "      <td>0</td>\n",
       "      <td>98070</td>\n",
       "      <td>47.468</td>\n",
       "      <td>-122.438</td>\n",
       "      <td>1230</td>\n",
       "      <td>14267</td>\n",
       "      <td>False</td>\n",
       "      <td>(298900, 399900]</td>\n",
       "    </tr>\n",
       "    <tr>\n",
       "      <th>300</th>\n",
       "      <td>3225069065</td>\n",
       "      <td>2014-06</td>\n",
       "      <td>3080000.000</td>\n",
       "      <td>4</td>\n",
       "      <td>5.000</td>\n",
       "      <td>4550</td>\n",
       "      <td>18641</td>\n",
       "      <td>1.000</td>\n",
       "      <td>1</td>\n",
       "      <td>4</td>\n",
       "      <td>...</td>\n",
       "      <td>1950</td>\n",
       "      <td>2002</td>\n",
       "      <td>0</td>\n",
       "      <td>98074</td>\n",
       "      <td>47.605</td>\n",
       "      <td>-122.077</td>\n",
       "      <td>4550</td>\n",
       "      <td>19508</td>\n",
       "      <td>False</td>\n",
       "      <td>(701000, 7800000]</td>\n",
       "    </tr>\n",
       "    <tr>\n",
       "      <th>...</th>\n",
       "      <td>...</td>\n",
       "      <td>...</td>\n",
       "      <td>...</td>\n",
       "      <td>...</td>\n",
       "      <td>...</td>\n",
       "      <td>...</td>\n",
       "      <td>...</td>\n",
       "      <td>...</td>\n",
       "      <td>...</td>\n",
       "      <td>...</td>\n",
       "      <td>...</td>\n",
       "      <td>...</td>\n",
       "      <td>...</td>\n",
       "      <td>...</td>\n",
       "      <td>...</td>\n",
       "      <td>...</td>\n",
       "      <td>...</td>\n",
       "      <td>...</td>\n",
       "      <td>...</td>\n",
       "      <td>...</td>\n",
       "      <td>...</td>\n",
       "    </tr>\n",
       "    <tr>\n",
       "      <th>19968</th>\n",
       "      <td>2025069140</td>\n",
       "      <td>2015-03</td>\n",
       "      <td>1900000.000</td>\n",
       "      <td>3</td>\n",
       "      <td>2.500</td>\n",
       "      <td>2830</td>\n",
       "      <td>4334</td>\n",
       "      <td>3.000</td>\n",
       "      <td>1</td>\n",
       "      <td>4</td>\n",
       "      <td>...</td>\n",
       "      <td>0</td>\n",
       "      <td>2006</td>\n",
       "      <td>0</td>\n",
       "      <td>98074</td>\n",
       "      <td>47.632</td>\n",
       "      <td>-122.071</td>\n",
       "      <td>2830</td>\n",
       "      <td>38211</td>\n",
       "      <td>False</td>\n",
       "      <td>(701000, 7800000]</td>\n",
       "    </tr>\n",
       "    <tr>\n",
       "      <th>20309</th>\n",
       "      <td>518500480</td>\n",
       "      <td>2014-08</td>\n",
       "      <td>3000000.000</td>\n",
       "      <td>3</td>\n",
       "      <td>3.500</td>\n",
       "      <td>4410</td>\n",
       "      <td>10756</td>\n",
       "      <td>2.000</td>\n",
       "      <td>1</td>\n",
       "      <td>4</td>\n",
       "      <td>...</td>\n",
       "      <td>980</td>\n",
       "      <td>2014</td>\n",
       "      <td>0</td>\n",
       "      <td>98056</td>\n",
       "      <td>47.528</td>\n",
       "      <td>-122.205</td>\n",
       "      <td>3550</td>\n",
       "      <td>5634</td>\n",
       "      <td>False</td>\n",
       "      <td>(701000, 7800000]</td>\n",
       "    </tr>\n",
       "    <tr>\n",
       "      <th>20751</th>\n",
       "      <td>8043700105</td>\n",
       "      <td>2015-04</td>\n",
       "      <td>2300000.000</td>\n",
       "      <td>4</td>\n",
       "      <td>4.000</td>\n",
       "      <td>4360</td>\n",
       "      <td>8175</td>\n",
       "      <td>2.500</td>\n",
       "      <td>1</td>\n",
       "      <td>4</td>\n",
       "      <td>...</td>\n",
       "      <td>420</td>\n",
       "      <td>2007</td>\n",
       "      <td>0</td>\n",
       "      <td>98008</td>\n",
       "      <td>47.572</td>\n",
       "      <td>-122.104</td>\n",
       "      <td>2670</td>\n",
       "      <td>8525</td>\n",
       "      <td>False</td>\n",
       "      <td>(701000, 7800000]</td>\n",
       "    </tr>\n",
       "    <tr>\n",
       "      <th>21185</th>\n",
       "      <td>518500460</td>\n",
       "      <td>2014-10</td>\n",
       "      <td>2230000.000</td>\n",
       "      <td>3</td>\n",
       "      <td>3.500</td>\n",
       "      <td>3760</td>\n",
       "      <td>5634</td>\n",
       "      <td>2.000</td>\n",
       "      <td>1</td>\n",
       "      <td>4</td>\n",
       "      <td>...</td>\n",
       "      <td>930</td>\n",
       "      <td>2014</td>\n",
       "      <td>0</td>\n",
       "      <td>98056</td>\n",
       "      <td>47.529</td>\n",
       "      <td>-122.205</td>\n",
       "      <td>3560</td>\n",
       "      <td>5762</td>\n",
       "      <td>False</td>\n",
       "      <td>(701000, 7800000]</td>\n",
       "    </tr>\n",
       "    <tr>\n",
       "      <th>21560</th>\n",
       "      <td>9253900271</td>\n",
       "      <td>2015-01</td>\n",
       "      <td>3570000.000</td>\n",
       "      <td>5</td>\n",
       "      <td>4.500</td>\n",
       "      <td>4850</td>\n",
       "      <td>10584</td>\n",
       "      <td>2.000</td>\n",
       "      <td>1</td>\n",
       "      <td>4</td>\n",
       "      <td>...</td>\n",
       "      <td>1310</td>\n",
       "      <td>2007</td>\n",
       "      <td>0</td>\n",
       "      <td>98008</td>\n",
       "      <td>47.594</td>\n",
       "      <td>-122.110</td>\n",
       "      <td>3470</td>\n",
       "      <td>18270</td>\n",
       "      <td>False</td>\n",
       "      <td>(701000, 7800000]</td>\n",
       "    </tr>\n",
       "  </tbody>\n",
       "</table>\n",
       "<p>146 rows × 23 columns</p>\n",
       "</div>"
      ],
      "text/plain": [
       "               id     date       price  bedrooms  bathrooms  sqft_living  \\\n",
       "49      822039084  2015-03 1350000.000         3      2.500         2753   \n",
       "230    8096000060  2015-04  655000.000         2      1.750         1450   \n",
       "246    2025069065  2014-09 2400000.000         4      2.500         3650   \n",
       "264    2123039032  2014-10  369900.000         1      0.750          760   \n",
       "300    3225069065  2014-06 3080000.000         4      5.000         4550   \n",
       "...           ...      ...         ...       ...        ...          ...   \n",
       "19968  2025069140  2015-03 1900000.000         3      2.500         2830   \n",
       "20309   518500480  2014-08 3000000.000         3      3.500         4410   \n",
       "20751  8043700105  2015-04 2300000.000         4      4.000         4360   \n",
       "21185   518500460  2014-10 2230000.000         3      3.500         3760   \n",
       "21560  9253900271  2015-01 3570000.000         5      4.500         4850   \n",
       "\n",
       "       sqft_lot  floors  waterfront  view  ...  sqft_basement  yr_built  \\\n",
       "49        65005   1.000           1     2  ...            588      1953   \n",
       "230       15798   2.000           1     4  ...            220      1915   \n",
       "246        8354   1.000           1     4  ...           1820      2000   \n",
       "264       10079   1.000           1     4  ...              0      1936   \n",
       "300       18641   1.000           1     4  ...           1950      2002   \n",
       "...         ...     ...         ...   ...  ...            ...       ...   \n",
       "19968      4334   3.000           1     4  ...              0      2006   \n",
       "20309     10756   2.000           1     4  ...            980      2014   \n",
       "20751      8175   2.500           1     4  ...            420      2007   \n",
       "21185      5634   2.000           1     4  ...            930      2014   \n",
       "21560     10584   2.000           1     4  ...           1310      2007   \n",
       "\n",
       "       yr_renovated  zipcode    lat     long  sqft_living15  sqft_lot15  \\\n",
       "49                0    98070 47.404 -122.451           2680       72513   \n",
       "230            1978    98166 47.450 -122.375           2030       13193   \n",
       "246               0    98074 47.634 -122.072           3120       18841   \n",
       "264               0    98070 47.468 -122.438           1230       14267   \n",
       "300               0    98074 47.605 -122.077           4550       19508   \n",
       "...             ...      ...    ...      ...            ...         ...   \n",
       "19968             0    98074 47.632 -122.071           2830       38211   \n",
       "20309             0    98056 47.528 -122.205           3550        5634   \n",
       "20751             0    98008 47.572 -122.104           2670        8525   \n",
       "21185             0    98056 47.529 -122.205           3560        5762   \n",
       "21560             0    98008 47.594 -122.110           3470       18270   \n",
       "\n",
       "       is_renov       5_price_bins  \n",
       "49        False  (701000, 7800000]  \n",
       "230       False   (519000, 701000]  \n",
       "246       False  (701000, 7800000]  \n",
       "264       False   (298900, 399900]  \n",
       "300       False  (701000, 7800000]  \n",
       "...         ...                ...  \n",
       "19968     False  (701000, 7800000]  \n",
       "20309     False  (701000, 7800000]  \n",
       "20751     False  (701000, 7800000]  \n",
       "21185     False  (701000, 7800000]  \n",
       "21560     False  (701000, 7800000]  \n",
       "\n",
       "[146 rows x 23 columns]"
      ]
     },
     "execution_count": 665,
     "metadata": {},
     "output_type": "execute_result"
    }
   ],
   "source": [
    "#king_county_df.groupby(['waterfront', 'is_renov', 'grade']).count().reset_index()\n",
    "kc_waterfront_df = king_county_df[king_county_df.waterfront == 1]\n",
    "\n",
    "data = kc_waterfront_df.groupby('grade').mean().reset_index()\n",
    "kc_waterfront_df"
   ]
  },
  {
   "cell_type": "raw",
   "metadata": {},
   "source": [
    "sns.set_theme(style=\"whitegrid\")\n",
    "\n",
    "penguins = sns.load_dataset(\"penguins\")\n",
    "\n",
    "# Draw a nested barplot by species and sex\n",
    "g = sns.catplot(\n",
    "    data=penguins, kind=\"bar\",\n",
    "    x=\"species\", y=\"body_mass_g\", hue=\"sex\",\n",
    "    ci=\"sd\", palette=\"dark\", alpha=.6, height=6\n",
    ")\n",
    "g.despine(left=True)\n",
    "g.set_axis_labels(\"\", \"Body mass (g)\")\n",
    "g.legend.set_title(\"\")"
   ]
  },
  {
   "cell_type": "code",
   "execution_count": 677,
   "metadata": {},
   "outputs": [
    {
     "data": {
      "image/png": "[encoded data removed]",
      "text/plain": [
       "<Figure size 494.175x432 with 1 Axes>"
      ]
     },
     "metadata": {},
     "output_type": "display_data"
    }
   ],
   "source": [
    "# set plot style: grey grid in the background:\n",
    "sns.set(style=\"whitegrid\")\n",
    "\n",
    "g = sns.catplot(\n",
    "    data=king_county_df, kind=\"bar\",\n",
    "    x=\"is_renov\", y=\"price\", hue=\"waterfront\",\n",
    "    ci=None, palette=\"rocket\", alpha=.6, height=6,\n",
    ")"
   ]
  },
  {
   "cell_type": "code",
   "execution_count": 635,
   "metadata": {},
   "outputs": [
    {
     "data": {
      "text/html": [
       "<div>\n",
       "<style scoped>\n",
       "    .dataframe tbody tr th:only-of-type {\n",
       "        vertical-align: middle;\n",
       "    }\n",
       "\n",
       "    .dataframe tbody tr th {\n",
       "        vertical-align: top;\n",
       "    }\n",
       "\n",
       "    .dataframe thead th {\n",
       "        text-align: right;\n",
       "    }\n",
       "</style>\n",
       "<table border=\"1\" class=\"dataframe\">\n",
       "  <thead>\n",
       "    <tr style=\"text-align: right;\">\n",
       "      <th></th>\n",
       "      <th>zipcode</th>\n",
       "      <th>id</th>\n",
       "      <th>price</th>\n",
       "      <th>bedrooms</th>\n",
       "      <th>bathrooms</th>\n",
       "      <th>sqft_living</th>\n",
       "      <th>sqft_lot</th>\n",
       "      <th>floors</th>\n",
       "      <th>waterfront</th>\n",
       "      <th>view</th>\n",
       "      <th>...</th>\n",
       "      <th>grade</th>\n",
       "      <th>sqft_above</th>\n",
       "      <th>sqft_basement</th>\n",
       "      <th>yr_built</th>\n",
       "      <th>yr_renovated</th>\n",
       "      <th>lat</th>\n",
       "      <th>long</th>\n",
       "      <th>sqft_living15</th>\n",
       "      <th>sqft_lot15</th>\n",
       "      <th>is_renov</th>\n",
       "    </tr>\n",
       "  </thead>\n",
       "  <tbody>\n",
       "    <tr>\n",
       "      <th>count</th>\n",
       "      <td>70.000</td>\n",
       "      <td>70.000</td>\n",
       "      <td>70.000</td>\n",
       "      <td>70.000</td>\n",
       "      <td>70.000</td>\n",
       "      <td>70.000</td>\n",
       "      <td>70.000</td>\n",
       "      <td>70.000</td>\n",
       "      <td>70.000</td>\n",
       "      <td>70.000</td>\n",
       "      <td>...</td>\n",
       "      <td>70.000</td>\n",
       "      <td>70.000</td>\n",
       "      <td>70.000</td>\n",
       "      <td>70.000</td>\n",
       "      <td>70.000</td>\n",
       "      <td>70.000</td>\n",
       "      <td>70.000</td>\n",
       "      <td>70.000</td>\n",
       "      <td>70.000</td>\n",
       "      <td>70.000</td>\n",
       "    </tr>\n",
       "    <tr>\n",
       "      <th>mean</th>\n",
       "      <td>98077.300</td>\n",
       "      <td>4493975003.950</td>\n",
       "      <td>561010.927</td>\n",
       "      <td>3.372</td>\n",
       "      <td>2.120</td>\n",
       "      <td>2098.820</td>\n",
       "      <td>18321.192</td>\n",
       "      <td>1.487</td>\n",
       "      <td>0.008</td>\n",
       "      <td>0.250</td>\n",
       "      <td>...</td>\n",
       "      <td>7.667</td>\n",
       "      <td>1805.733</td>\n",
       "      <td>293.087</td>\n",
       "      <td>1970.007</td>\n",
       "      <td>76.508</td>\n",
       "      <td>47.554</td>\n",
       "      <td>-122.211</td>\n",
       "      <td>1993.806</td>\n",
       "      <td>15366.949</td>\n",
       "      <td>0.017</td>\n",
       "    </tr>\n",
       "    <tr>\n",
       "      <th>std</th>\n",
       "      <td>56.622</td>\n",
       "      <td>756393253.007</td>\n",
       "      <td>302394.017</td>\n",
       "      <td>0.270</td>\n",
       "      <td>0.303</td>\n",
       "      <td>434.646</td>\n",
       "      <td>21855.641</td>\n",
       "      <td>0.201</td>\n",
       "      <td>0.023</td>\n",
       "      <td>0.234</td>\n",
       "      <td>...</td>\n",
       "      <td>0.611</td>\n",
       "      <td>421.792</td>\n",
       "      <td>133.635</td>\n",
       "      <td>15.030</td>\n",
       "      <td>63.903</td>\n",
       "      <td>0.138</td>\n",
       "      <td>0.151</td>\n",
       "      <td>398.682</td>\n",
       "      <td>17124.533</td>\n",
       "      <td>0.016</td>\n",
       "    </tr>\n",
       "    <tr>\n",
       "      <th>min</th>\n",
       "      <td>98001.000</td>\n",
       "      <td>2802980843.950</td>\n",
       "      <td>234284.035</td>\n",
       "      <td>2.778</td>\n",
       "      <td>1.433</td>\n",
       "      <td>1468.625</td>\n",
       "      <td>3194.368</td>\n",
       "      <td>1.160</td>\n",
       "      <td>0.000</td>\n",
       "      <td>0.000</td>\n",
       "      <td>...</td>\n",
       "      <td>6.509</td>\n",
       "      <td>1188.272</td>\n",
       "      <td>78.387</td>\n",
       "      <td>1940.406</td>\n",
       "      <td>0.000</td>\n",
       "      <td>47.211</td>\n",
       "      <td>-122.464</td>\n",
       "      <td>1361.230</td>\n",
       "      <td>3303.500</td>\n",
       "      <td>0.000</td>\n",
       "    </tr>\n",
       "    <tr>\n",
       "      <th>25%</th>\n",
       "      <td>98029.250</td>\n",
       "      <td>4131647761.623</td>\n",
       "      <td>354133.935</td>\n",
       "      <td>3.196</td>\n",
       "      <td>1.911</td>\n",
       "      <td>1784.766</td>\n",
       "      <td>6260.391</td>\n",
       "      <td>1.345</td>\n",
       "      <td>0.000</td>\n",
       "      <td>0.076</td>\n",
       "      <td>...</td>\n",
       "      <td>7.282</td>\n",
       "      <td>1476.984</td>\n",
       "      <td>184.818</td>\n",
       "      <td>1956.933</td>\n",
       "      <td>30.236</td>\n",
       "      <td>47.456</td>\n",
       "      <td>-122.321</td>\n",
       "      <td>1692.081</td>\n",
       "      <td>5997.663</td>\n",
       "      <td>0.005</td>\n",
       "    </tr>\n",
       "    <tr>\n",
       "      <th>50%</th>\n",
       "      <td>98067.500</td>\n",
       "      <td>4433061346.081</td>\n",
       "      <td>492001.209</td>\n",
       "      <td>3.371</td>\n",
       "      <td>2.100</td>\n",
       "      <td>2033.363</td>\n",
       "      <td>10564.538</td>\n",
       "      <td>1.459</td>\n",
       "      <td>0.000</td>\n",
       "      <td>0.178</td>\n",
       "      <td>...</td>\n",
       "      <td>7.553</td>\n",
       "      <td>1718.422</td>\n",
       "      <td>291.805</td>\n",
       "      <td>1970.407</td>\n",
       "      <td>49.726</td>\n",
       "      <td>47.560</td>\n",
       "      <td>-122.240</td>\n",
       "      <td>1923.885</td>\n",
       "      <td>9657.653</td>\n",
       "      <td>0.011</td>\n",
       "    </tr>\n",
       "    <tr>\n",
       "      <th>75%</th>\n",
       "      <td>98117.750</td>\n",
       "      <td>4903922324.191</td>\n",
       "      <td>645532.226</td>\n",
       "      <td>3.520</td>\n",
       "      <td>2.289</td>\n",
       "      <td>2313.551</td>\n",
       "      <td>17337.001</td>\n",
       "      <td>1.621</td>\n",
       "      <td>0.007</td>\n",
       "      <td>0.363</td>\n",
       "      <td>...</td>\n",
       "      <td>8.017</td>\n",
       "      <td>2059.481</td>\n",
       "      <td>400.034</td>\n",
       "      <td>1981.344</td>\n",
       "      <td>110.649</td>\n",
       "      <td>47.669</td>\n",
       "      <td>-122.134</td>\n",
       "      <td>2203.740</td>\n",
       "      <td>13659.649</td>\n",
       "      <td>0.025</td>\n",
       "    </tr>\n",
       "    <tr>\n",
       "      <th>max</th>\n",
       "      <td>98199.000</td>\n",
       "      <td>7390800180.081</td>\n",
       "      <td>2161300.000</td>\n",
       "      <td>4.060</td>\n",
       "      <td>3.200</td>\n",
       "      <td>3800.900</td>\n",
       "      <td>102735.438</td>\n",
       "      <td>1.990</td>\n",
       "      <td>0.171</td>\n",
       "      <td>1.094</td>\n",
       "      <td>...</td>\n",
       "      <td>9.560</td>\n",
       "      <td>3290.900</td>\n",
       "      <td>632.504</td>\n",
       "      <td>1997.980</td>\n",
       "      <td>358.720</td>\n",
       "      <td>47.755</td>\n",
       "      <td>-121.759</td>\n",
       "      <td>3132.200</td>\n",
       "      <td>80068.214</td>\n",
       "      <td>0.060</td>\n",
       "    </tr>\n",
       "  </tbody>\n",
       "</table>\n",
       "<p>8 rows × 21 columns</p>\n",
       "</div>"
      ],
      "text/plain": [
       "        zipcode             id       price  bedrooms  bathrooms  sqft_living  \\\n",
       "count    70.000         70.000      70.000    70.000     70.000       70.000   \n",
       "mean  98077.300 4493975003.950  561010.927     3.372      2.120     2098.820   \n",
       "std      56.622  756393253.007  302394.017     0.270      0.303      434.646   \n",
       "min   98001.000 2802980843.950  234284.035     2.778      1.433     1468.625   \n",
       "25%   98029.250 4131647761.623  354133.935     3.196      1.911     1784.766   \n",
       "50%   98067.500 4433061346.081  492001.209     3.371      2.100     2033.363   \n",
       "75%   98117.750 4903922324.191  645532.226     3.520      2.289     2313.551   \n",
       "max   98199.000 7390800180.081 2161300.000     4.060      3.200     3800.900   \n",
       "\n",
       "        sqft_lot  floors  waterfront   view  ...  grade  sqft_above  \\\n",
       "count     70.000  70.000      70.000 70.000  ... 70.000      70.000   \n",
       "mean   18321.192   1.487       0.008  0.250  ...  7.667    1805.733   \n",
       "std    21855.641   0.201       0.023  0.234  ...  0.611     421.792   \n",
       "min     3194.368   1.160       0.000  0.000  ...  6.509    1188.272   \n",
       "25%     6260.391   1.345       0.000  0.076  ...  7.282    1476.984   \n",
       "50%    10564.538   1.459       0.000  0.178  ...  7.553    1718.422   \n",
       "75%    17337.001   1.621       0.007  0.363  ...  8.017    2059.481   \n",
       "max   102735.438   1.990       0.171  1.094  ...  9.560    3290.900   \n",
       "\n",
       "       sqft_basement  yr_built  yr_renovated    lat     long  sqft_living15  \\\n",
       "count         70.000    70.000        70.000 70.000   70.000         70.000   \n",
       "mean         293.087  1970.007        76.508 47.554 -122.211       1993.806   \n",
       "std          133.635    15.030        63.903  0.138    0.151        398.682   \n",
       "min           78.387  1940.406         0.000 47.211 -122.464       1361.230   \n",
       "25%          184.818  1956.933        30.236 47.456 -122.321       1692.081   \n",
       "50%          291.805  1970.407        49.726 47.560 -122.240       1923.885   \n",
       "75%          400.034  1981.344       110.649 47.669 -122.134       2203.740   \n",
       "max          632.504  1997.980       358.720 47.755 -121.759       3132.200   \n",
       "\n",
       "       sqft_lot15  is_renov  \n",
       "count      70.000    70.000  \n",
       "mean    15366.949     0.017  \n",
       "std     17124.533     0.016  \n",
       "min      3303.500     0.000  \n",
       "25%      5997.663     0.005  \n",
       "50%      9657.653     0.011  \n",
       "75%     13659.649     0.025  \n",
       "max     80068.214     0.060  \n",
       "\n",
       "[8 rows x 21 columns]"
      ]
     },
     "execution_count": 635,
     "metadata": {},
     "output_type": "execute_result"
    }
   ],
   "source": [
    "for_map_zips = king_county_df.groupby('zipcode').mean().reset_index()\n",
    "for_map_zips1 = king_county_df.groupby('zipcode').median().reset_index()\n",
    "\n",
    "\n",
    "for_map_zips.describe()"
   ]
  },
  {
   "cell_type": "code",
   "execution_count": null,
   "metadata": {},
   "outputs": [],
   "source": []
  },
  {
   "cell_type": "code",
   "execution_count": 636,
   "metadata": {},
   "outputs": [
    {
     "data": {
      "application/vnd.plotly.v1+json": {
       "config": {
        "plotlyServerURL": "https://plot.ly"
       },
       "data": [
        {
         "lat": [
          47.30910554016621,
          47.30877989949749,
          47.31574107142857,
          47.6161832807571,
          47.611531547619045,
          47.55802168674699,
          47.6105219858156,
          47.613311660777384,
          47.33321,
          47.75519230769231,
          47.67148790322581,
          47.73709578947368,
          47.21122575107296,
          47.30862244488978,
          47.55876375,
          47.52168713592233,
          47.755137809187275,
          47.559557009345795,
          47.3690265625,
          47.403764835164836,
          47.373555999999994,
          47.680088194444444,
          47.720687889908255,
          47.370640237691006,
          47.62584,
          47.55984609929078,
          47.36569890310786,
          47.47309454545454,
          47.68053780487805,
          47.68003151364764,
          47.45866604477612,
          47.509657142857144,
          47.44608483516483,
          47.492736111111114,
          47.53176525974026,
          47.41742051282051,
          47.75101648351649,
          47.624084353741495,
          47.58749080779944,
          47.74592171717171,
          47.30183646723646,
          47.63459134615385,
          47.676023920265784,
          47.665066812227074,
          47.536196417910446,
          47.66978984962406,
          47.549769354838716,
          47.635601834862385,
          47.62961858736059,
          47.68548421955403,
          47.573905454545454,
          47.686889150090416,
          47.5438392504931,
          47.64003423913043,
          47.610160344827584,
          47.71703007334963,
          47.54458418079096,
          47.735654766734285,
          47.53880684410647,
          47.58629329446064,
          47.50205520833333,
          47.437436842105264,
          47.754863228699556,
          47.45521181102362,
          47.489700000000006,
          47.742380784313724,
          47.49911755725191,
          47.44730955882353,
          47.390787857142854,
          47.64809810725552
         ],
         "lon": [
          -122.27070360110804,
          -122.2133567839196,
          -122.31005357142858,
          -122.20518927444795,
          -122.16726785714285,
          -122.14683935742973,
          -122.14207801418439,
          -122.11583392226149,
          -121.99947,
          -122.20117435897436,
          -121.84853225806452,
          -121.95483157894738,
          -121.99554935622318,
          -122.36428256513027,
          -121.905475,
          -122.04284708737863,
          -122.24602826855123,
          -122.00565732087227,
          -122.19041796875,
          -122.18930402930403,
          -122.278848,
          -122.18765972222224,
          -122.2073743119266,
          -122.03175382003394,
          -122.23353999999999,
          -122.22559219858155,
          -122.11538756855576,
          -121.75908181818181,
          -122.11927700348431,
          -122.02287096774192,
          -122.20276119402985,
          -122.18277832512315,
          -122.14614285714286,
          -122.13904700854701,
          -121.86215584415585,
          -122.46358974358974,
          -122.13197435897436,
          -122.04478458049887,
          -122.02252367688023,
          -122.06120202020202,
          -122.16799715099714,
          -122.32225,
          -122.34412956810631,
          -122.2943406113537,
          -122.35680895522388,
          -122.37557142857142,
          -122.30687096774194,
          -122.35009174311926,
          -122.29786617100373,
          -122.30178902229845,
          -122.3936212121212,
          -122.37858951175407,
          -122.2755956607495,
          -122.36691847826087,
          -122.29977241379311,
          -122.30123471882641,
          -122.37527401129944,
          -122.3437971602434,
          -122.38820532319393,
          -122.29841107871721,
          -122.35830555555556,
          -122.32931578947368,
          -122.3035403587444,
          -122.35030314960629,
          -122.30787732342009,
          -122.36928235294118,
          -122.24696946564885,
          -122.28099264705882,
          -122.31574285714287,
          -122.39846056782334
         ],
         "marker": {
          "autocolorscale": false,
          "cmax": 2161300,
          "cmin": 234284.0351758794,
          "color": [
           281194.8698060942,
           234284.0351758794,
           294111.27857142856,
           1356523.9905362776,
           810289.6964285715,
           859938.5542168674,
           617254.0212765958,
           645628.2261484099,
           423665.99,
           490377.1076923077,
           455617.1129032258,
           424815.06315789477,
           316742.3905579399,
           286742.81162324647,
           586120.875,
           617053.9660194175,
           462488.8692579505,
           612642.738317757,
           296187.98046875,
           300340.40293040295,
           251296.24,
           803990.8194444445,
           521740.0146788991,
           367091.48387096776,
           2161300,
           1194873.6382978724,
           311580.33638025593,
           440232.31363636366,
           645244.2264808363,
           677215.034739454,
           304262.1082089552,
           420895.47536945814,
           353619.07472527475,
           493625.3098290598,
           529629.7824675324,
           489382.0170940171,
           570073.5201465201,
           685675.8435374149,
           790734.704735376,
           682885.9898989899,
           334921.0626780627,
           899607.6730769231,
           585048.7790697674,
           863228.9432314411,
           319581.3940298507,
           579109.8082706766,
           355678.51612903224,
           880077.752293578,
           1096239.0074349442,
           619944.1492281304,
           618695.1090909091,
           576834.808318264,
           418019.36094674555,
           849714.8097826086,
           634558.1448275862,
           469928.76772616134,
           424734.60451977403,
           387011.5902636917,
           551768.5209125475,
           594706.5422740525,
           359496.2604166667,
           284908.5964912281,
           423736.9058295964,
           464322.38976377953,
           240328.3717472119,
           676419.3921568628,
           310612.75572519086,
           289078.3455882353,
           302896.7392857143,
           792187.8738170346
          ],
          "colorbar": {
           "title": {
            "text": "Price"
           }
          },
          "colorscale": [
           [
            0,
            "#440154"
           ],
           [
            0.1111111111111111,
            "#482878"
           ],
           [
            0.2222222222222222,
            "#3e4989"
           ],
           [
            0.3333333333333333,
            "#31688e"
           ],
           [
            0.4444444444444444,
            "#26828e"
           ],
           [
            0.5555555555555556,
            "#1f9e89"
           ],
           [
            0.6666666666666666,
            "#35b779"
           ],
           [
            0.7777777777777778,
            "#6ece58"
           ],
           [
            0.8888888888888888,
            "#b5de2b"
           ],
           [
            1,
            "#fde725"
           ]
          ],
          "line": {
           "color": "rgba(102, 102, 102)",
           "width": 1
          },
          "opacity": 0.8,
          "reversescale": true,
          "size": 8,
          "symbol": "circle"
         },
         "text": [
          281194.8698060942,
          234284.0351758794,
          294111.27857142856,
          1356523.9905362776,
          810289.6964285715,
          859938.5542168674,
          617254.0212765958,
          645628.2261484099,
          423665.99,
          490377.1076923077,
          455617.1129032258,
          424815.06315789477,
          316742.3905579399,
          286742.81162324647,
          586120.875,
          617053.9660194175,
          462488.8692579505,
          612642.738317757,
          296187.98046875,
          300340.40293040295,
          251296.24,
          803990.8194444445,
          521740.0146788991,
          367091.48387096776,
          2161300,
          1194873.6382978724,
          311580.33638025593,
          440232.31363636366,
          645244.2264808363,
          677215.034739454,
          304262.1082089552,
          420895.47536945814,
          353619.07472527475,
          493625.3098290598,
          529629.7824675324,
          489382.0170940171,
          570073.5201465201,
          685675.8435374149,
          790734.704735376,
          682885.9898989899,
          334921.0626780627,
          899607.6730769231,
          585048.7790697674,
          863228.9432314411,
          319581.3940298507,
          579109.8082706766,
          355678.51612903224,
          880077.752293578,
          1096239.0074349442,
          619944.1492281304,
          618695.1090909091,
          576834.808318264,
          418019.36094674555,
          849714.8097826086,
          634558.1448275862,
          469928.76772616134,
          424734.60451977403,
          387011.5902636917,
          551768.5209125475,
          594706.5422740525,
          359496.2604166667,
          284908.5964912281,
          423736.9058295964,
          464322.38976377953,
          240328.3717472119,
          676419.3921568628,
          310612.75572519086,
          289078.3455882353,
          302896.7392857143,
          792187.8738170346
         ],
         "type": "scattergeo"
        }
       ],
       "layout": {
        "autosize": true,
        "geo": {
         "center": {
          "lat": 47.56,
          "lon": -122.214
         },
         "landcolor": "rgb(217, 217, 217)",
         "projection": {
          "scale": 45,
          "type": "albers usa"
         },
         "resolution": 50,
         "scope": "usa",
         "showcountries": false,
         "showland": true,
         "showsubunits": true,
         "subunitcolor": "Green"
        },
        "margin": {
         "b": 0,
         "l": 0,
         "r": 400,
         "t": 30
        },
        "template": {
         "data": {
          "bar": [
           {
            "error_x": {
             "color": "#2a3f5f"
            },
            "error_y": {
             "color": "#2a3f5f"
            },
            "marker": {
             "line": {
              "color": "#E5ECF6",
              "width": 0.5
             },
             "pattern": {
              "fillmode": "overlay",
              "size": 10,
              "solidity": 0.2
             }
            },
            "type": "bar"
           }
          ],
          "barpolar": [
           {
            "marker": {
             "line": {
              "color": "#E5ECF6",
              "width": 0.5
             },
             "pattern": {
              "fillmode": "overlay",
              "size": 10,
              "solidity": 0.2
             }
            },
            "type": "barpolar"
           }
          ],
          "carpet": [
           {
            "aaxis": {
             "endlinecolor": "#2a3f5f",
             "gridcolor": "white",
             "linecolor": "white",
             "minorgridcolor": "white",
             "startlinecolor": "#2a3f5f"
            },
            "baxis": {
             "endlinecolor": "#2a3f5f",
             "gridcolor": "white",
             "linecolor": "white",
             "minorgridcolor": "white",
             "startlinecolor": "#2a3f5f"
            },
            "type": "carpet"
           }
          ],
          "choropleth": [
           {
            "colorbar": {
             "outlinewidth": 0,
             "ticks": ""
            },
            "type": "choropleth"
           }
          ],
          "contour": [
           {
            "colorbar": {
             "outlinewidth": 0,
             "ticks": ""
            },
            "colorscale": [
             [
              0,
              "#0d0887"
             ],
             [
              0.1111111111111111,
              "#46039f"
             ],
             [
              0.2222222222222222,
              "#7201a8"
             ],
             [
              0.3333333333333333,
              "#9c179e"
             ],
             [
              0.4444444444444444,
              "#bd3786"
             ],
             [
              0.5555555555555556,
              "#d8576b"
             ],
             [
              0.6666666666666666,
              "#ed7953"
             ],
             [
              0.7777777777777778,
              "#fb9f3a"
             ],
             [
              0.8888888888888888,
              "#fdca26"
             ],
             [
              1,
              "#f0f921"
             ]
            ],
            "type": "contour"
           }
          ],
          "contourcarpet": [
           {
            "colorbar": {
             "outlinewidth": 0,
             "ticks": ""
            },
            "type": "contourcarpet"
           }
          ],
          "heatmap": [
           {
            "colorbar": {
             "outlinewidth": 0,
             "ticks": ""
            },
            "colorscale": [
             [
              0,
              "#0d0887"
             ],
             [
              0.1111111111111111,
              "#46039f"
             ],
             [
              0.2222222222222222,
              "#7201a8"
             ],
             [
              0.3333333333333333,
              "#9c179e"
             ],
             [
              0.4444444444444444,
              "#bd3786"
             ],
             [
              0.5555555555555556,
              "#d8576b"
             ],
             [
              0.6666666666666666,
              "#ed7953"
             ],
             [
              0.7777777777777778,
              "#fb9f3a"
             ],
             [
              0.8888888888888888,
              "#fdca26"
             ],
             [
              1,
              "#f0f921"
             ]
            ],
            "type": "heatmap"
           }
          ],
          "heatmapgl": [
           {
            "colorbar": {
             "outlinewidth": 0,
             "ticks": ""
            },
            "colorscale": [
             [
              0,
              "#0d0887"
             ],
             [
              0.1111111111111111,
              "#46039f"
             ],
             [
              0.2222222222222222,
              "#7201a8"
             ],
             [
              0.3333333333333333,
              "#9c179e"
             ],
             [
              0.4444444444444444,
              "#bd3786"
             ],
             [
              0.5555555555555556,
              "#d8576b"
             ],
             [
              0.6666666666666666,
              "#ed7953"
             ],
             [
              0.7777777777777778,
              "#fb9f3a"
             ],
             [
              0.8888888888888888,
              "#fdca26"
             ],
             [
              1,
              "#f0f921"
             ]
            ],
            "type": "heatmapgl"
           }
          ],
          "histogram": [
           {
            "marker": {
             "pattern": {
              "fillmode": "overlay",
              "size": 10,
              "solidity": 0.2
             }
            },
            "type": "histogram"
           }
          ],
          "histogram2d": [
           {
            "colorbar": {
             "outlinewidth": 0,
             "ticks": ""
            },
            "colorscale": [
             [
              0,
              "#0d0887"
             ],
             [
              0.1111111111111111,
              "#46039f"
             ],
             [
              0.2222222222222222,
              "#7201a8"
             ],
             [
              0.3333333333333333,
              "#9c179e"
             ],
             [
              0.4444444444444444,
              "#bd3786"
             ],
             [
              0.5555555555555556,
              "#d8576b"
             ],
             [
              0.6666666666666666,
              "#ed7953"
             ],
             [
              0.7777777777777778,
              "#fb9f3a"
             ],
             [
              0.8888888888888888,
              "#fdca26"
             ],
             [
              1,
              "#f0f921"
             ]
            ],
            "type": "histogram2d"
           }
          ],
          "histogram2dcontour": [
           {
            "colorbar": {
             "outlinewidth": 0,
             "ticks": ""
            },
            "colorscale": [
             [
              0,
              "#0d0887"
             ],
             [
              0.1111111111111111,
              "#46039f"
             ],
             [
              0.2222222222222222,
              "#7201a8"
             ],
             [
              0.3333333333333333,
              "#9c179e"
             ],
             [
              0.4444444444444444,
              "#bd3786"
             ],
             [
              0.5555555555555556,
              "#d8576b"
             ],
             [
              0.6666666666666666,
              "#ed7953"
             ],
             [
              0.7777777777777778,
              "#fb9f3a"
             ],
             [
              0.8888888888888888,
              "#fdca26"
             ],
             [
              1,
              "#f0f921"
             ]
            ],
            "type": "histogram2dcontour"
           }
          ],
          "mesh3d": [
           {
            "colorbar": {
             "outlinewidth": 0,
             "ticks": ""
            },
            "type": "mesh3d"
           }
          ],
          "parcoords": [
           {
            "line": {
             "colorbar": {
              "outlinewidth": 0,
              "ticks": ""
             }
            },
            "type": "parcoords"
           }
          ],
          "pie": [
           {
            "automargin": true,
            "type": "pie"
           }
          ],
          "scatter": [
           {
            "marker": {
             "colorbar": {
              "outlinewidth": 0,
              "ticks": ""
             }
            },
            "type": "scatter"
           }
          ],
          "scatter3d": [
           {
            "line": {
             "colorbar": {
              "outlinewidth": 0,
              "ticks": ""
             }
            },
            "marker": {
             "colorbar": {
              "outlinewidth": 0,
              "ticks": ""
             }
            },
            "type": "scatter3d"
           }
          ],
          "scattercarpet": [
           {
            "marker": {
             "colorbar": {
              "outlinewidth": 0,
              "ticks": ""
             }
            },
            "type": "scattercarpet"
           }
          ],
          "scattergeo": [
           {
            "marker": {
             "colorbar": {
              "outlinewidth": 0,
              "ticks": ""
             }
            },
            "type": "scattergeo"
           }
          ],
          "scattergl": [
           {
            "marker": {
             "colorbar": {
              "outlinewidth": 0,
              "ticks": ""
             }
            },
            "type": "scattergl"
           }
          ],
          "scattermapbox": [
           {
            "marker": {
             "colorbar": {
              "outlinewidth": 0,
              "ticks": ""
             }
            },
            "type": "scattermapbox"
           }
          ],
          "scatterpolar": [
           {
            "marker": {
             "colorbar": {
              "outlinewidth": 0,
              "ticks": ""
             }
            },
            "type": "scatterpolar"
           }
          ],
          "scatterpolargl": [
           {
            "marker": {
             "colorbar": {
              "outlinewidth": 0,
              "ticks": ""
             }
            },
            "type": "scatterpolargl"
           }
          ],
          "scatterternary": [
           {
            "marker": {
             "colorbar": {
              "outlinewidth": 0,
              "ticks": ""
             }
            },
            "type": "scatterternary"
           }
          ],
          "surface": [
           {
            "colorbar": {
             "outlinewidth": 0,
             "ticks": ""
            },
            "colorscale": [
             [
              0,
              "#0d0887"
             ],
             [
              0.1111111111111111,
              "#46039f"
             ],
             [
              0.2222222222222222,
              "#7201a8"
             ],
             [
              0.3333333333333333,
              "#9c179e"
             ],
             [
              0.4444444444444444,
              "#bd3786"
             ],
             [
              0.5555555555555556,
              "#d8576b"
             ],
             [
              0.6666666666666666,
              "#ed7953"
             ],
             [
              0.7777777777777778,
              "#fb9f3a"
             ],
             [
              0.8888888888888888,
              "#fdca26"
             ],
             [
              1,
              "#f0f921"
             ]
            ],
            "type": "surface"
           }
          ],
          "table": [
           {
            "cells": {
             "fill": {
              "color": "#EBF0F8"
             },
             "line": {
              "color": "white"
             }
            },
            "header": {
             "fill": {
              "color": "#C8D4E3"
             },
             "line": {
              "color": "white"
             }
            },
            "type": "table"
           }
          ]
         },
         "layout": {
          "annotationdefaults": {
           "arrowcolor": "#2a3f5f",
           "arrowhead": 0,
           "arrowwidth": 1
          },
          "autotypenumbers": "strict",
          "coloraxis": {
           "colorbar": {
            "outlinewidth": 0,
            "ticks": ""
           }
          },
          "colorscale": {
           "diverging": [
            [
             0,
             "#8e0152"
            ],
            [
             0.1,
             "#c51b7d"
            ],
            [
             0.2,
             "#de77ae"
            ],
            [
             0.3,
             "#f1b6da"
            ],
            [
             0.4,
             "#fde0ef"
            ],
            [
             0.5,
             "#f7f7f7"
            ],
            [
             0.6,
             "#e6f5d0"
            ],
            [
             0.7,
             "#b8e186"
            ],
            [
             0.8,
             "#7fbc41"
            ],
            [
             0.9,
             "#4d9221"
            ],
            [
             1,
             "#276419"
            ]
           ],
           "sequential": [
            [
             0,
             "#0d0887"
            ],
            [
             0.1111111111111111,
             "#46039f"
            ],
            [
             0.2222222222222222,
             "#7201a8"
            ],
            [
             0.3333333333333333,
             "#9c179e"
            ],
            [
             0.4444444444444444,
             "#bd3786"
            ],
            [
             0.5555555555555556,
             "#d8576b"
            ],
            [
             0.6666666666666666,
             "#ed7953"
            ],
            [
             0.7777777777777778,
             "#fb9f3a"
            ],
            [
             0.8888888888888888,
             "#fdca26"
            ],
            [
             1,
             "#f0f921"
            ]
           ],
           "sequentialminus": [
            [
             0,
             "#0d0887"
            ],
            [
             0.1111111111111111,
             "#46039f"
            ],
            [
             0.2222222222222222,
             "#7201a8"
            ],
            [
             0.3333333333333333,
             "#9c179e"
            ],
            [
             0.4444444444444444,
             "#bd3786"
            ],
            [
             0.5555555555555556,
             "#d8576b"
            ],
            [
             0.6666666666666666,
             "#ed7953"
            ],
            [
             0.7777777777777778,
             "#fb9f3a"
            ],
            [
             0.8888888888888888,
             "#fdca26"
            ],
            [
             1,
             "#f0f921"
            ]
           ]
          },
          "colorway": [
           "#636efa",
           "#EF553B",
           "#00cc96",
           "#ab63fa",
           "#FFA15A",
           "#19d3f3",
           "#FF6692",
           "#B6E880",
           "#FF97FF",
           "#FECB52"
          ],
          "font": {
           "color": "#2a3f5f"
          },
          "geo": {
           "bgcolor": "white",
           "lakecolor": "white",
           "landcolor": "#E5ECF6",
           "showlakes": true,
           "showland": true,
           "subunitcolor": "white"
          },
          "hoverlabel": {
           "align": "left"
          },
          "hovermode": "closest",
          "mapbox": {
           "style": "light"
          },
          "paper_bgcolor": "white",
          "plot_bgcolor": "#E5ECF6",
          "polar": {
           "angularaxis": {
            "gridcolor": "white",
            "linecolor": "white",
            "ticks": ""
           },
           "bgcolor": "#E5ECF6",
           "radialaxis": {
            "gridcolor": "white",
            "linecolor": "white",
            "ticks": ""
           }
          },
          "scene": {
           "xaxis": {
            "backgroundcolor": "#E5ECF6",
            "gridcolor": "white",
            "gridwidth": 2,
            "linecolor": "white",
            "showbackground": true,
            "ticks": "",
            "zerolinecolor": "white"
           },
           "yaxis": {
            "backgroundcolor": "#E5ECF6",
            "gridcolor": "white",
            "gridwidth": 2,
            "linecolor": "white",
            "showbackground": true,
            "ticks": "",
            "zerolinecolor": "white"
           },
           "zaxis": {
            "backgroundcolor": "#E5ECF6",
            "gridcolor": "white",
            "gridwidth": 2,
            "linecolor": "white",
            "showbackground": true,
            "ticks": "",
            "zerolinecolor": "white"
           }
          },
          "shapedefaults": {
           "line": {
            "color": "#2a3f5f"
           }
          },
          "ternary": {
           "aaxis": {
            "gridcolor": "white",
            "linecolor": "white",
            "ticks": ""
           },
           "baxis": {
            "gridcolor": "white",
            "linecolor": "white",
            "ticks": ""
           },
           "bgcolor": "#E5ECF6",
           "caxis": {
            "gridcolor": "white",
            "linecolor": "white",
            "ticks": ""
           }
          },
          "title": {
           "x": 0.05
          },
          "xaxis": {
           "automargin": true,
           "gridcolor": "white",
           "linecolor": "white",
           "ticks": "",
           "title": {
            "standoff": 15
           },
           "zerolinecolor": "white",
           "zerolinewidth": 2
          },
          "yaxis": {
           "automargin": true,
           "gridcolor": "white",
           "linecolor": "white",
           "ticks": "",
           "title": {
            "standoff": 15
           },
           "zerolinecolor": "white",
           "zerolinewidth": 2
          }
         }
        },
        "title": {
         "text": "Average Price per Zipcode"
        }
       }
      },
      "image/png": "[encoded data removed]",
      "text/html": [
       "<div>                            <div id=\"e0b0154f-a523-4f8b-95a3-f4df8fd4556d\" class=\"plotly-graph-div\" style=\"height:300px; width:100%;\"></div>            <script type=\"text/javascript\">                require([\"plotly\"], function(Plotly) {                    window.PLOTLYENV=window.PLOTLYENV || {};                                    if (document.getElementById(\"e0b0154f-a523-4f8b-95a3-f4df8fd4556d\")) {                    Plotly.newPlot(                        \"e0b0154f-a523-4f8b-95a3-f4df8fd4556d\",                        [{\"lat\":[47.30910554016621,47.30877989949749,47.31574107142857,47.6161832807571,47.611531547619045,47.55802168674699,47.6105219858156,47.613311660777384,47.33321,47.75519230769231,47.67148790322581,47.73709578947368,47.21122575107296,47.30862244488978,47.55876375,47.52168713592233,47.755137809187275,47.559557009345795,47.3690265625,47.403764835164836,47.373555999999994,47.680088194444444,47.720687889908255,47.370640237691006,47.62584,47.55984609929078,47.36569890310786,47.47309454545454,47.68053780487805,47.68003151364764,47.45866604477612,47.509657142857144,47.44608483516483,47.492736111111114,47.53176525974026,47.41742051282051,47.75101648351649,47.624084353741495,47.58749080779944,47.74592171717171,47.30183646723646,47.63459134615385,47.676023920265784,47.665066812227074,47.536196417910446,47.66978984962406,47.549769354838716,47.635601834862385,47.62961858736059,47.68548421955403,47.573905454545454,47.686889150090416,47.5438392504931,47.64003423913043,47.610160344827584,47.71703007334963,47.54458418079096,47.735654766734285,47.53880684410647,47.58629329446064,47.50205520833333,47.437436842105264,47.754863228699556,47.45521181102362,47.489700000000006,47.742380784313724,47.49911755725191,47.44730955882353,47.390787857142854,47.64809810725552],\"lon\":[-122.27070360110804,-122.2133567839196,-122.31005357142858,-122.20518927444795,-122.16726785714285,-122.14683935742973,-122.14207801418439,-122.11583392226149,-121.99947,-122.20117435897436,-121.84853225806452,-121.95483157894738,-121.99554935622318,-122.36428256513027,-121.905475,-122.04284708737863,-122.24602826855123,-122.00565732087227,-122.19041796875,-122.18930402930403,-122.278848,-122.18765972222224,-122.2073743119266,-122.03175382003394,-122.23353999999999,-122.22559219858155,-122.11538756855576,-121.75908181818181,-122.11927700348431,-122.02287096774192,-122.20276119402985,-122.18277832512315,-122.14614285714286,-122.13904700854701,-121.86215584415585,-122.46358974358974,-122.13197435897436,-122.04478458049887,-122.02252367688023,-122.06120202020202,-122.16799715099714,-122.32225,-122.34412956810631,-122.2943406113537,-122.35680895522388,-122.37557142857142,-122.30687096774194,-122.35009174311926,-122.29786617100373,-122.30178902229845,-122.3936212121212,-122.37858951175407,-122.2755956607495,-122.36691847826087,-122.29977241379311,-122.30123471882641,-122.37527401129944,-122.3437971602434,-122.38820532319393,-122.29841107871721,-122.35830555555556,-122.32931578947368,-122.3035403587444,-122.35030314960629,-122.30787732342009,-122.36928235294118,-122.24696946564885,-122.28099264705882,-122.31574285714287,-122.39846056782334],\"marker\":{\"autocolorscale\":false,\"cmax\":2161300.0,\"cmin\":234284.0351758794,\"color\":[281194.8698060942,234284.0351758794,294111.27857142856,1356523.9905362776,810289.6964285715,859938.5542168674,617254.0212765958,645628.2261484099,423665.99,490377.1076923077,455617.1129032258,424815.06315789477,316742.3905579399,286742.81162324647,586120.875,617053.9660194175,462488.8692579505,612642.738317757,296187.98046875,300340.40293040295,251296.24,803990.8194444445,521740.0146788991,367091.48387096776,2161300.0,1194873.6382978724,311580.33638025593,440232.31363636366,645244.2264808363,677215.034739454,304262.1082089552,420895.47536945814,353619.07472527475,493625.3098290598,529629.7824675324,489382.0170940171,570073.5201465201,685675.8435374149,790734.704735376,682885.9898989899,334921.0626780627,899607.6730769231,585048.7790697674,863228.9432314411,319581.3940298507,579109.8082706766,355678.51612903224,880077.752293578,1096239.0074349442,619944.1492281304,618695.1090909091,576834.808318264,418019.36094674555,849714.8097826086,634558.1448275862,469928.76772616134,424734.60451977403,387011.5902636917,551768.5209125475,594706.5422740525,359496.2604166667,284908.5964912281,423736.9058295964,464322.38976377953,240328.3717472119,676419.3921568628,310612.75572519086,289078.3455882353,302896.7392857143,792187.8738170346],\"colorbar\":{\"title\":{\"text\":\"Price\"}},\"colorscale\":[[0.0,\"#440154\"],[0.1111111111111111,\"#482878\"],[0.2222222222222222,\"#3e4989\"],[0.3333333333333333,\"#31688e\"],[0.4444444444444444,\"#26828e\"],[0.5555555555555556,\"#1f9e89\"],[0.6666666666666666,\"#35b779\"],[0.7777777777777778,\"#6ece58\"],[0.8888888888888888,\"#b5de2b\"],[1.0,\"#fde725\"]],\"line\":{\"color\":\"rgba(102, 102, 102)\",\"width\":1},\"opacity\":0.8,\"reversescale\":true,\"size\":8,\"symbol\":\"circle\"},\"text\":[281194.8698060942,234284.0351758794,294111.27857142856,1356523.9905362776,810289.6964285715,859938.5542168674,617254.0212765958,645628.2261484099,423665.99,490377.1076923077,455617.1129032258,424815.06315789477,316742.3905579399,286742.81162324647,586120.875,617053.9660194175,462488.8692579505,612642.738317757,296187.98046875,300340.40293040295,251296.24,803990.8194444445,521740.0146788991,367091.48387096776,2161300.0,1194873.6382978724,311580.33638025593,440232.31363636366,645244.2264808363,677215.034739454,304262.1082089552,420895.47536945814,353619.07472527475,493625.3098290598,529629.7824675324,489382.0170940171,570073.5201465201,685675.8435374149,790734.704735376,682885.9898989899,334921.0626780627,899607.6730769231,585048.7790697674,863228.9432314411,319581.3940298507,579109.8082706766,355678.51612903224,880077.752293578,1096239.0074349442,619944.1492281304,618695.1090909091,576834.808318264,418019.36094674555,849714.8097826086,634558.1448275862,469928.76772616134,424734.60451977403,387011.5902636917,551768.5209125475,594706.5422740525,359496.2604166667,284908.5964912281,423736.9058295964,464322.38976377953,240328.3717472119,676419.3921568628,310612.75572519086,289078.3455882353,302896.7392857143,792187.8738170346],\"type\":\"scattergeo\"}],                        {\"template\":{\"data\":{\"bar\":[{\"error_x\":{\"color\":\"#2a3f5f\"},\"error_y\":{\"color\":\"#2a3f5f\"},\"marker\":{\"line\":{\"color\":\"#E5ECF6\",\"width\":0.5},\"pattern\":{\"fillmode\":\"overlay\",\"size\":10,\"solidity\":0.2}},\"type\":\"bar\"}],\"barpolar\":[{\"marker\":{\"line\":{\"color\":\"#E5ECF6\",\"width\":0.5},\"pattern\":{\"fillmode\":\"overlay\",\"size\":10,\"solidity\":0.2}},\"type\":\"barpolar\"}],\"carpet\":[{\"aaxis\":{\"endlinecolor\":\"#2a3f5f\",\"gridcolor\":\"white\",\"linecolor\":\"white\",\"minorgridcolor\":\"white\",\"startlinecolor\":\"#2a3f5f\"},\"baxis\":{\"endlinecolor\":\"#2a3f5f\",\"gridcolor\":\"white\",\"linecolor\":\"white\",\"minorgridcolor\":\"white\",\"startlinecolor\":\"#2a3f5f\"},\"type\":\"carpet\"}],\"choropleth\":[{\"colorbar\":{\"outlinewidth\":0,\"ticks\":\"\"},\"type\":\"choropleth\"}],\"contour\":[{\"colorbar\":{\"outlinewidth\":0,\"ticks\":\"\"},\"colorscale\":[[0.0,\"#0d0887\"],[0.1111111111111111,\"#46039f\"],[0.2222222222222222,\"#7201a8\"],[0.3333333333333333,\"#9c179e\"],[0.4444444444444444,\"#bd3786\"],[0.5555555555555556,\"#d8576b\"],[0.6666666666666666,\"#ed7953\"],[0.7777777777777778,\"#fb9f3a\"],[0.8888888888888888,\"#fdca26\"],[1.0,\"#f0f921\"]],\"type\":\"contour\"}],\"contourcarpet\":[{\"colorbar\":{\"outlinewidth\":0,\"ticks\":\"\"},\"type\":\"contourcarpet\"}],\"heatmap\":[{\"colorbar\":{\"outlinewidth\":0,\"ticks\":\"\"},\"colorscale\":[[0.0,\"#0d0887\"],[0.1111111111111111,\"#46039f\"],[0.2222222222222222,\"#7201a8\"],[0.3333333333333333,\"#9c179e\"],[0.4444444444444444,\"#bd3786\"],[0.5555555555555556,\"#d8576b\"],[0.6666666666666666,\"#ed7953\"],[0.7777777777777778,\"#fb9f3a\"],[0.8888888888888888,\"#fdca26\"],[1.0,\"#f0f921\"]],\"type\":\"heatmap\"}],\"heatmapgl\":[{\"colorbar\":{\"outlinewidth\":0,\"ticks\":\"\"},\"colorscale\":[[0.0,\"#0d0887\"],[0.1111111111111111,\"#46039f\"],[0.2222222222222222,\"#7201a8\"],[0.3333333333333333,\"#9c179e\"],[0.4444444444444444,\"#bd3786\"],[0.5555555555555556,\"#d8576b\"],[0.6666666666666666,\"#ed7953\"],[0.7777777777777778,\"#fb9f3a\"],[0.8888888888888888,\"#fdca26\"],[1.0,\"#f0f921\"]],\"type\":\"heatmapgl\"}],\"histogram\":[{\"marker\":{\"pattern\":{\"fillmode\":\"overlay\",\"size\":10,\"solidity\":0.2}},\"type\":\"histogram\"}],\"histogram2d\":[{\"colorbar\":{\"outlinewidth\":0,\"ticks\":\"\"},\"colorscale\":[[0.0,\"#0d0887\"],[0.1111111111111111,\"#46039f\"],[0.2222222222222222,\"#7201a8\"],[0.3333333333333333,\"#9c179e\"],[0.4444444444444444,\"#bd3786\"],[0.5555555555555556,\"#d8576b\"],[0.6666666666666666,\"#ed7953\"],[0.7777777777777778,\"#fb9f3a\"],[0.8888888888888888,\"#fdca26\"],[1.0,\"#f0f921\"]],\"type\":\"histogram2d\"}],\"histogram2dcontour\":[{\"colorbar\":{\"outlinewidth\":0,\"ticks\":\"\"},\"colorscale\":[[0.0,\"#0d0887\"],[0.1111111111111111,\"#46039f\"],[0.2222222222222222,\"#7201a8\"],[0.3333333333333333,\"#9c179e\"],[0.4444444444444444,\"#bd3786\"],[0.5555555555555556,\"#d8576b\"],[0.6666666666666666,\"#ed7953\"],[0.7777777777777778,\"#fb9f3a\"],[0.8888888888888888,\"#fdca26\"],[1.0,\"#f0f921\"]],\"type\":\"histogram2dcontour\"}],\"mesh3d\":[{\"colorbar\":{\"outlinewidth\":0,\"ticks\":\"\"},\"type\":\"mesh3d\"}],\"parcoords\":[{\"line\":{\"colorbar\":{\"outlinewidth\":0,\"ticks\":\"\"}},\"type\":\"parcoords\"}],\"pie\":[{\"automargin\":true,\"type\":\"pie\"}],\"scatter\":[{\"marker\":{\"colorbar\":{\"outlinewidth\":0,\"ticks\":\"\"}},\"type\":\"scatter\"}],\"scatter3d\":[{\"line\":{\"colorbar\":{\"outlinewidth\":0,\"ticks\":\"\"}},\"marker\":{\"colorbar\":{\"outlinewidth\":0,\"ticks\":\"\"}},\"type\":\"scatter3d\"}],\"scattercarpet\":[{\"marker\":{\"colorbar\":{\"outlinewidth\":0,\"ticks\":\"\"}},\"type\":\"scattercarpet\"}],\"scattergeo\":[{\"marker\":{\"colorbar\":{\"outlinewidth\":0,\"ticks\":\"\"}},\"type\":\"scattergeo\"}],\"scattergl\":[{\"marker\":{\"colorbar\":{\"outlinewidth\":0,\"ticks\":\"\"}},\"type\":\"scattergl\"}],\"scattermapbox\":[{\"marker\":{\"colorbar\":{\"outlinewidth\":0,\"ticks\":\"\"}},\"type\":\"scattermapbox\"}],\"scatterpolar\":[{\"marker\":{\"colorbar\":{\"outlinewidth\":0,\"ticks\":\"\"}},\"type\":\"scatterpolar\"}],\"scatterpolargl\":[{\"marker\":{\"colorbar\":{\"outlinewidth\":0,\"ticks\":\"\"}},\"type\":\"scatterpolargl\"}],\"scatterternary\":[{\"marker\":{\"colorbar\":{\"outlinewidth\":0,\"ticks\":\"\"}},\"type\":\"scatterternary\"}],\"surface\":[{\"colorbar\":{\"outlinewidth\":0,\"ticks\":\"\"},\"colorscale\":[[0.0,\"#0d0887\"],[0.1111111111111111,\"#46039f\"],[0.2222222222222222,\"#7201a8\"],[0.3333333333333333,\"#9c179e\"],[0.4444444444444444,\"#bd3786\"],[0.5555555555555556,\"#d8576b\"],[0.6666666666666666,\"#ed7953\"],[0.7777777777777778,\"#fb9f3a\"],[0.8888888888888888,\"#fdca26\"],[1.0,\"#f0f921\"]],\"type\":\"surface\"}],\"table\":[{\"cells\":{\"fill\":{\"color\":\"#EBF0F8\"},\"line\":{\"color\":\"white\"}},\"header\":{\"fill\":{\"color\":\"#C8D4E3\"},\"line\":{\"color\":\"white\"}},\"type\":\"table\"}]},\"layout\":{\"annotationdefaults\":{\"arrowcolor\":\"#2a3f5f\",\"arrowhead\":0,\"arrowwidth\":1},\"autotypenumbers\":\"strict\",\"coloraxis\":{\"colorbar\":{\"outlinewidth\":0,\"ticks\":\"\"}},\"colorscale\":{\"diverging\":[[0,\"#8e0152\"],[0.1,\"#c51b7d\"],[0.2,\"#de77ae\"],[0.3,\"#f1b6da\"],[0.4,\"#fde0ef\"],[0.5,\"#f7f7f7\"],[0.6,\"#e6f5d0\"],[0.7,\"#b8e186\"],[0.8,\"#7fbc41\"],[0.9,\"#4d9221\"],[1,\"#276419\"]],\"sequential\":[[0.0,\"#0d0887\"],[0.1111111111111111,\"#46039f\"],[0.2222222222222222,\"#7201a8\"],[0.3333333333333333,\"#9c179e\"],[0.4444444444444444,\"#bd3786\"],[0.5555555555555556,\"#d8576b\"],[0.6666666666666666,\"#ed7953\"],[0.7777777777777778,\"#fb9f3a\"],[0.8888888888888888,\"#fdca26\"],[1.0,\"#f0f921\"]],\"sequentialminus\":[[0.0,\"#0d0887\"],[0.1111111111111111,\"#46039f\"],[0.2222222222222222,\"#7201a8\"],[0.3333333333333333,\"#9c179e\"],[0.4444444444444444,\"#bd3786\"],[0.5555555555555556,\"#d8576b\"],[0.6666666666666666,\"#ed7953\"],[0.7777777777777778,\"#fb9f3a\"],[0.8888888888888888,\"#fdca26\"],[1.0,\"#f0f921\"]]},\"colorway\":[\"#636efa\",\"#EF553B\",\"#00cc96\",\"#ab63fa\",\"#FFA15A\",\"#19d3f3\",\"#FF6692\",\"#B6E880\",\"#FF97FF\",\"#FECB52\"],\"font\":{\"color\":\"#2a3f5f\"},\"geo\":{\"bgcolor\":\"white\",\"lakecolor\":\"white\",\"landcolor\":\"#E5ECF6\",\"showlakes\":true,\"showland\":true,\"subunitcolor\":\"white\"},\"hoverlabel\":{\"align\":\"left\"},\"hovermode\":\"closest\",\"mapbox\":{\"style\":\"light\"},\"paper_bgcolor\":\"white\",\"plot_bgcolor\":\"#E5ECF6\",\"polar\":{\"angularaxis\":{\"gridcolor\":\"white\",\"linecolor\":\"white\",\"ticks\":\"\"},\"bgcolor\":\"#E5ECF6\",\"radialaxis\":{\"gridcolor\":\"white\",\"linecolor\":\"white\",\"ticks\":\"\"}},\"scene\":{\"xaxis\":{\"backgroundcolor\":\"#E5ECF6\",\"gridcolor\":\"white\",\"gridwidth\":2,\"linecolor\":\"white\",\"showbackground\":true,\"ticks\":\"\",\"zerolinecolor\":\"white\"},\"yaxis\":{\"backgroundcolor\":\"#E5ECF6\",\"gridcolor\":\"white\",\"gridwidth\":2,\"linecolor\":\"white\",\"showbackground\":true,\"ticks\":\"\",\"zerolinecolor\":\"white\"},\"zaxis\":{\"backgroundcolor\":\"#E5ECF6\",\"gridcolor\":\"white\",\"gridwidth\":2,\"linecolor\":\"white\",\"showbackground\":true,\"ticks\":\"\",\"zerolinecolor\":\"white\"}},\"shapedefaults\":{\"line\":{\"color\":\"#2a3f5f\"}},\"ternary\":{\"aaxis\":{\"gridcolor\":\"white\",\"linecolor\":\"white\",\"ticks\":\"\"},\"baxis\":{\"gridcolor\":\"white\",\"linecolor\":\"white\",\"ticks\":\"\"},\"bgcolor\":\"#E5ECF6\",\"caxis\":{\"gridcolor\":\"white\",\"linecolor\":\"white\",\"ticks\":\"\"}},\"title\":{\"x\":0.05},\"xaxis\":{\"automargin\":true,\"gridcolor\":\"white\",\"linecolor\":\"white\",\"ticks\":\"\",\"title\":{\"standoff\":15},\"zerolinecolor\":\"white\",\"zerolinewidth\":2},\"yaxis\":{\"automargin\":true,\"gridcolor\":\"white\",\"linecolor\":\"white\",\"ticks\":\"\",\"title\":{\"standoff\":15},\"zerolinecolor\":\"white\",\"zerolinewidth\":2}}},\"geo\":{\"center\":{\"lat\":47.56,\"lon\":-122.214},\"projection\":{\"scale\":45,\"type\":\"albers usa\"},\"resolution\":50,\"scope\":\"usa\",\"showcountries\":false,\"landcolor\":\"rgb(217, 217, 217)\",\"showsubunits\":true,\"subunitcolor\":\"Green\",\"showland\":true},\"margin\":{\"r\":400,\"t\":30,\"l\":0,\"b\":0},\"title\":{\"text\":\"Average Price per Zipcode\"},\"height\":300},                        {\"responsive\": true}                    ).then(function(){\n",
       "                            \n",
       "var gd = document.getElementById('e0b0154f-a523-4f8b-95a3-f4df8fd4556d');\n",
       "var x = new MutationObserver(function (mutations, observer) {{\n",
       "        var display = window.getComputedStyle(gd).display;\n",
       "        if (!display || display === 'none') {{\n",
       "            console.log([gd, 'removed!']);\n",
       "            Plotly.purge(gd);\n",
       "            observer.disconnect();\n",
       "        }}\n",
       "}});\n",
       "\n",
       "// Listen for the removal of the full notebook cells\n",
       "var notebookContainer = gd.closest('#notebook-container');\n",
       "if (notebookContainer) {{\n",
       "    x.observe(notebookContainer, {childList: true});\n",
       "}}\n",
       "\n",
       "// Listen for the clearing of the current output cell\n",
       "var outputEl = gd.closest('.output');\n",
       "if (outputEl) {{\n",
       "    x.observe(outputEl, {childList: true});\n",
       "}}\n",
       "\n",
       "                        })                };                });            </script>        </div>"
      ]
     },
     "metadata": {},
     "output_type": "display_data"
    }
   ],
   "source": [
    "lat_foc = 47.560\n",
    "lon_foc = -122.214\n",
    "\n",
    "fig = go.Figure(data=go.Scattergeo(lon = for_map_zips['long'], lat = for_map_zips['lat'],\n",
    "                                   text = for_map_zips['price'],marker = dict(\n",
    "            size = 8,\n",
    "            opacity = 0.8,\n",
    "            reversescale = True,\n",
    "            autocolorscale = False,\n",
    "            symbol = 'circle',\n",
    "            line = dict(\n",
    "                width=1,\n",
    "                color='rgba(102, 102, 102)'\n",
    "            ),\n",
    "            colorscale = 'viridis',\n",
    "            cmin = for_map_zips['price'].min(),\n",
    "            color = for_map_zips['price'],\n",
    "            cmax = for_map_zips['price'].max(),\n",
    "            colorbar_title=\"Price\"\n",
    "        )))\n",
    "\n",
    "fig.update_geos(resolution=50, scope=\"usa\", center=dict(lat=lat_foc, lon=lon_foc), showcountries=False,\n",
    "                landcolor = \"rgb(217, 217, 217)\", projection_scale=45,\n",
    "                showsubunits=True, subunitcolor=\"Green\", showland = True, projection_type='albers usa')\n",
    "\n",
    "fig.update_layout(title = 'Average Price per Zipcode', height=300, margin={\"r\":400,\"t\":30,\"l\":0,\"b\":0})\n",
    "\n",
    "\n",
    "fig.show()"
   ]
  },
  {
   "cell_type": "code",
   "execution_count": 653,
   "metadata": {},
   "outputs": [
    {
     "data": {
      "text/plain": [
       "Text(0.5, 1.0, 'Sales during the Months')"
      ]
     },
     "execution_count": 653,
     "metadata": {},
     "output_type": "execute_result"
    },
    {
     "data": {
      "image/png": "[encoded data removed]",
      "text/plain": [
       "<Figure size 864x576 with 1 Axes>"
      ]
     },
     "metadata": {},
     "output_type": "display_data"
    }
   ],
   "source": [
    "#number of houses sold per month\n",
    "king_county_df1 = king_county_df.sort_values(by=['date'])\n",
    "height = king_county_df1.groupby('date').count()\n",
    "\n",
    "plt.xticks(rotation=45)\n",
    "plt.bar(x=king_county_df1['date'].unique(), height=height.price, width = 0.7, color=\"pink\", edgecolor= \"magenta\")\n",
    "plt.xlabel(\"Months\")\n",
    "plt.ylabel(\"Number of Houses Sold\")\n",
    "plt.title(\"Sales during the Months\")"
   ]
  },
  {
   "cell_type": "code",
   "execution_count": 652,
   "metadata": {},
   "outputs": [],
   "source": [
    "renovated_houses = king_county_df[king_county_df.yr_renovated>0]\n",
    "#3.4 percent of the houses are renovated\n",
    "waterfront_houses = king_county_df[king_county_df.waterfront==1]"
   ]
  },
  {
   "cell_type": "code",
   "execution_count": null,
   "metadata": {},
   "outputs": [],
   "source": []
  }
 ],
 "metadata": {
  "kernelspec": {
   "display_name": "Python 3 (ipykernel)",
   "language": "python",
   "name": "python3"
  },
  "language_info": {
   "codemirror_mode": {
    "name": "ipython",
    "version": 3
   },
   "file_extension": ".py",
   "mimetype": "text/x-python",
   "name": "python",
   "nbconvert_exporter": "python",
   "pygments_lexer": "ipython3",
   "version": "3.9.4"
  }
 },
 "nbformat": 4,
 "nbformat_minor": 4
}
